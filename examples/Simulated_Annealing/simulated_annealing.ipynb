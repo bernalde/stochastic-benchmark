{
 "cells": [
  {
   "cell_type": "code",
   "execution_count": 1,
   "id": "b05df55c",
   "metadata": {},
   "outputs": [],
   "source": [
    "import os\n",
    "import pyomo.environ as pyo\n",
    "# Import the Dwave packages dimod and neal\n",
    "import dimod\n",
    "import neal\n",
    "# Import Matplotlib to generate plots\n",
    "import matplotlib.pyplot as plt\n",
    "# Import numpy and scipy for certain numerical calculations below\n",
    "import numpy as np\n",
    "import math\n",
    "from collections import Counter\n",
    "import pandas as pd\n",
    "from itertools import chain\n",
    "import time\n",
    "import networkx as nx\n",
    "import pickle\n",
    "from matplotlib import ticker\n",
    "\n",
    "import sys\n",
    "\n",
    "sys.path.append(\"../../src\")\n",
    "\n",
    "import stochastic_benchmark as SB\n",
    "import bootstrap\n",
    "import interpolate\n",
    "import stats\n",
    "from utils_ws import *"
   ]
  },
  {
   "cell_type": "markdown",
   "id": "5ca429ad",
   "metadata": {},
   "source": [
    "## Simulated Annealing (S.A.)\n",
    "\n",
    "S.A. is an optimization algorithm that works by navigating the input space and evaluating the objective function (energy) similarly to hill climbing. The main difference is that S.A. implements a strategy to avoid getting stuck in local optima.\n",
    "\n",
    "The general idea is to allow moves to a worse position, but in a structured way. When a candidate solution is selected, the probability of actually moving to the new position is determined by the change in the objective function and by a metric called **temperature**. When the temperature is high, the chance of performing a jump to a worse state increases, and the opposite happens when the temperature is low. By continuously decreasing the temperature during the execution of the algorithm, it can escape local optima during the first stages (high temperature), but it settles into a position towards the end of the execution (low temperature).\n",
    "\n",
    "### Probability of Making a Jump\n",
    "\n",
    "**Case 1:**\n",
    "$$\n",
    "\\Delta E = E_{current} - E_{next} > 0\n",
    "$$\n",
    "\n",
    "It is always advantageous to move to a state with a better objective function. In this case, the probability is $P = 1$.\n",
    "\n",
    "**Case 2:**\n",
    "$$\n",
    "\\Delta E = E_{current} - E_{next} < 0\n",
    "$$\n",
    "\n",
    "In this case, the probability of taking the step is determined by:\n",
    "\n",
    "$$\n",
    "P = e^{-|\\Delta E| / T}\n",
    "$$\n",
    "\n",
    "**Note:** This formulation applies to a minimization problem. To solve a maximization problem, the only change is that $\\Delta E = E_{next} - E_{current}$.\n",
    "\n",
    "### Temperature Decrease\n",
    "\n",
    "The way the temperature decreases during the algorithm's execution varies between implementations. This is referred to as the temperature **schedule**, which is a function of time or the number of iterations.\n",
    "\n",
    "**Note:** $\\beta = 1 / T$ is also commonly used in the implementation of the algorithm."
   ]
  },
  {
   "cell_type": "markdown",
   "id": "3c6835f6",
   "metadata": {},
   "source": [
    "Let's define a larger model, with 100 variables and random weights.\n",
    "\n",
    "Assume that we are interested at the instance created with random weights $h_{i}, J_{i, j} \\sim U[-1, +1]$."
   ]
  },
  {
   "cell_type": "markdown",
   "id": "e415ebf5",
   "metadata": {},
   "source": [
    "### Problem statement\n",
    "\n",
    "We pose the Ising problem as the following optimization problem:\n",
    "\n",
    "$$\n",
    "\\min_{s \\in \\{ \\pm 1 \\}^n} H(s) = \\min_{s \\in \\{ \\pm 1 \\}^n} \\sum_{(i, j) \\in E(G)} J_{i,j}s_is_j + \\sum_{i \\in V(G)} h_is_i + \\beta\n",
    "$$\n",
    "\n",
    "where we optimize over spins $s \\in \\{ \\pm 1 \\}^n$, on a constrained graph $G(V,E)$, where the quadratic coefficients are $J_{i,j}$ and the linear coefficients are $h_i$.\n",
    "We also include an arbitrary offset of the Ising model $\\beta$."
   ]
  },
  {
   "cell_type": "markdown",
   "id": "16e88325",
   "metadata": {},
   "source": [
    "### Loading The Data\n",
    "\n",
    "The following cells load data from Simulated Annealing runs performed on a problem instance with variations in the number of reads parameter (1, 10, 1000).\n",
    "\n",
    "These runs were originally executed using the [QuboNotebooks Repository](https://github.com/JuliaQUBO/QUBONotebooks/blob/main/notebooks_py/5-Benchmarking_python.ipynb)."
   ]
  },
  {
   "cell_type": "code",
   "execution_count": 2,
   "id": "0ed7992c",
   "metadata": {},
   "outputs": [],
   "source": [
    "current_path = os.getcwd()\n",
    "pickle_path = os.path.join(current_path, 'results/')\n",
    "if not(os.path.exists(pickle_path)):\n",
    "    print('Results directory ' + pickle_path +\n",
    "          ' does not exist. We will create it.')\n",
    "    os.makedirs(pickle_path)\n",
    "    !wget -O {pickle_path}results.zip -N -q \"https://github.com/JuliaQUBO/QUBONotebooks/raw/main/notebooks_py/results.zip\""
   ]
  },
  {
   "cell_type": "code",
   "execution_count": 3,
   "id": "ae3cd87d",
   "metadata": {},
   "outputs": [
    {
     "name": "stdout",
     "output_type": "stream",
     "text": [
      "Results zip file has been extrated to /home/jvpcms/purdue-internship/stochastic-benchmark/examples/Simulated_Annealing/results/\n"
     ]
    }
   ],
   "source": [
    "import zipfile\n",
    "zip_name = os.path.join(pickle_path, 'results.zip')\n",
    "overwrite_pickles = False\n",
    "if os.path.exists(zip_name):\n",
    "    with zipfile.ZipFile(zip_name, 'r') as zip_ref:\n",
    "        zip_ref.extractall(pickle_path)\n",
    "    print('Results zip file has been extrated to ' + pickle_path)"
   ]
  },
  {
   "cell_type": "code",
   "execution_count": 36,
   "id": "5561904e",
   "metadata": {},
   "outputs": [],
   "source": [
    "instance = 42    \n",
    "results_name = \"results_\" + str(instance) + \".pkl\"\n",
    "results_name = os.path.join(pickle_path, results_name)\n",
    "\n",
    "results = pickle.load(open(results_name, \"rb\"))"
   ]
  },
  {
   "cell_type": "code",
   "execution_count": 38,
   "id": "a1d2a2b0",
   "metadata": {},
   "outputs": [],
   "source": [
    "def print_dict_structure(d, indent=0):\n",
    "    \"\"\"\n",
    "    Prints the keys of a nested dictionary in a file structure-like format.\n",
    "    \"\"\"\n",
    "    for key, value in d.items():\n",
    "        # Print the current key with indentation\n",
    "        print(' ' * indent + str(key))\n",
    "        \n",
    "        # If the value is a dictionary, recurse into it\n",
    "        if isinstance(value, dict):\n",
    "            print_dict_structure(value, indent + 4)\n",
    "\n",
    "# p\n",
    "#     1\n",
    "#         geometric\n",
    "#     10\n",
    "#         geometric\n",
    "#     1000\n",
    "#         geometric\n",
    "# min_energy\n",
    "#     geometric\n",
    "# random_energy\n",
    "#     geometric\n",
    "# tts\n",
    "#     1\n",
    "#         geometric\n",
    "#     10\n",
    "#         geometric\n",
    "#     1000\n",
    "#         geometric\n",
    "# ttsci\n",
    "#     1\n",
    "#         geometric\n",
    "#     10\n",
    "#         geometric\n",
    "#     1000\n",
    "#         geometric\n",
    "# t\n",
    "#     geometric\n",
    "# best\n",
    "#     1\n",
    "#         geometric\n",
    "#     10\n",
    "#         geometric\n",
    "#     1000\n",
    "#         geometric\n",
    "# bestci\n",
    "#     1\n",
    "#         geometric\n",
    "#     10\n",
    "#         geometric\n",
    "#     1000\n",
    "#         geometric"
   ]
  },
  {
   "cell_type": "markdown",
   "id": "edafa5e2",
   "metadata": {},
   "source": [
    "### Performance Metric\n",
    "\n",
    "We are interested at the \"aproximation ratio\" metric. In this particular problem, it is calculated as follows:\n",
    "\n",
    "- At first, we sample a subset from the input space and calculate the associated energies. Specifically 1000 random bitstrings, in this case.\n",
    "- The best (minimum) energy found across the ramdom sample is denoted `minimum`, while the mean energy across the random sampling is denoted `random`.\n",
    "- The aproximation ratio is calculated across an increasing number of sweeps of S.A. where `found` is the best energy found at the current moment in de algorithm's execution.\n",
    "\n",
    "$$\n",
    "approximation\\space ratio = \\frac{found - random}{minimum - random}\n",
    "$$\n",
    "\n",
    "Even though it is (very) unlikely that we found the best solution during the random sampling, this metric is useful because it gives us a general idea of how good our currently found solution is.\n",
    "\n",
    "\n",
    "More details at [QuboNotebooks Repository](https://github.com/JuliaQUBO/QUBONotebooks/blob/main/notebooks_py/5-Benchmarking_python.ipynb)."
   ]
  },
  {
   "cell_type": "code",
   "execution_count": 19,
   "id": "e0217565",
   "metadata": {},
   "outputs": [],
   "source": [
    "here = os.getcwd()\n",
    "parameter_names = [\n",
    "    \"sweeps\",\n",
    "    \"reads\",\n",
    "]  # think about whether iterations should be a parameter or not.\n",
    "instance_cols = [\n",
    "    \"instance\"\n",
    "]  # indicates how instances should be grouped, default is ['instance']\n",
    "\n",
    "## Response information\n",
    "response_key = \"approx_ratio\"  # Column with the response\n",
    "response_dir = -1  # whether we want to maximize (1) or minimize (-1), default is 1\n",
    "\n",
    "## Optimizations informations\n",
    "recover = True  # Whether we want to read dataframes when available, default is True\n",
    "reduce_mem = True  # Whether we want to segment bootstrapping and interpolation to reduce memory usage, default is True\n",
    "smooth = True  # Whether virtual best should be monontonized, default is True\n",
    "\n",
    "sb = SB.stochastic_benchmark(\n",
    "    parameter_names=parameter_names,\n",
    "    here=here,\n",
    "    instance_cols=instance_cols,\n",
    "    response_key=response_key,\n",
    "    response_dir=response_dir,\n",
    "    smooth=smooth,\n",
    ")"
   ]
  }
 ],
 "metadata": {
  "kernelspec": {
   "display_name": ".venv",
   "language": "python",
   "name": "python3"
  },
  "language_info": {
   "codemirror_mode": {
    "name": "ipython",
    "version": 3
   },
   "file_extension": ".py",
   "mimetype": "text/x-python",
   "name": "python",
   "nbconvert_exporter": "python",
   "pygments_lexer": "ipython3",
   "version": "3.13.0"
  }
 },
 "nbformat": 4,
 "nbformat_minor": 5
}
