{
 "cells": [
  {
   "attachments": {},
   "cell_type": "markdown",
   "metadata": {},
   "source": [
    "# Conversion of data obtained from the QED-C framework\n",
    "https://github.com/SRI-International/QC-App-Oriented-Benchmarks"
   ]
  },
  {
   "attachments": {},
   "cell_type": "markdown",
   "metadata": {},
   "source": [
    "The data from the QED-C repository is should be placed in a folder named `__results`.\n",
    "\n",
    "Note that the `__results` folder, the `conversion.ipynb` and `conversion.py` files should be placed in the `maxcut/qiskit` folder in the QED-C package. "
   ]
  },
  {
   "cell_type": "code",
   "execution_count": 2,
   "metadata": {},
   "outputs": [
    {
     "ename": "ModuleNotFoundError",
     "evalue": "No module named 'maxcut_benchmark'",
     "output_type": "error",
     "traceback": [
      "\u001b[0;31m---------------------------------------------------------------------------\u001b[0m",
      "\u001b[0;31mModuleNotFoundError\u001b[0m                       Traceback (most recent call last)",
      "Cell \u001b[0;32mIn[2], line 2\u001b[0m\n\u001b[1;32m      1\u001b[0m \u001b[38;5;28;01mimport\u001b[39;00m \u001b[38;5;21;01mos\u001b[39;00m\n\u001b[0;32m----> 2\u001b[0m \u001b[38;5;28;01mimport\u001b[39;00m \u001b[38;5;21;01mconversion\u001b[39;00m \u001b[38;5;28;01mas\u001b[39;00m \u001b[38;5;21;01mws\u001b[39;00m\n\u001b[1;32m      3\u001b[0m \u001b[38;5;28;01mfrom\u001b[39;00m \u001b[38;5;21;01mitertools\u001b[39;00m \u001b[38;5;28;01mimport\u001b[39;00m product \u001b[38;5;28;01mas\u001b[39;00m iterprod\n",
      "File \u001b[0;32m/mnt/c/Users/rames102/Desktop/stochastic-benchmark/examples/QEDC_to_WS_conversion/conversion.py:9\u001b[0m\n\u001b[1;32m      7\u001b[0m \u001b[38;5;28;01mimport\u001b[39;00m \u001b[38;5;21;01mos\u001b[39;00m\n\u001b[1;32m      8\u001b[0m \u001b[38;5;28;01mimport\u001b[39;00m \u001b[38;5;21;01mglob\u001b[39;00m\n\u001b[0;32m----> 9\u001b[0m \u001b[38;5;28;01mimport\u001b[39;00m \u001b[38;5;21;01mmaxcut_benchmark\u001b[39;00m\n\u001b[1;32m     10\u001b[0m \u001b[38;5;28;01mfrom\u001b[39;00m \u001b[38;5;21;01mscipy\u001b[39;00m\u001b[38;5;21;01m.\u001b[39;00m\u001b[38;5;21;01mspecial\u001b[39;00m \u001b[38;5;28;01mimport\u001b[39;00m erfinv\n\u001b[1;32m     12\u001b[0m times_list \u001b[38;5;241m=\u001b[39m [\u001b[38;5;124m\"\u001b[39m\u001b[38;5;124melapsed_time\u001b[39m\u001b[38;5;124m\"\u001b[39m, \u001b[38;5;124m\"\u001b[39m\u001b[38;5;124mexec_time\u001b[39m\u001b[38;5;124m\"\u001b[39m, \u001b[38;5;124m\"\u001b[39m\u001b[38;5;124mopt_exec_time\u001b[39m\u001b[38;5;124m\"\u001b[39m, \u001b[38;5;124m\"\u001b[39m\u001b[38;5;124mcreate_time\u001b[39m\u001b[38;5;124m\"\u001b[39m]\n",
      "\u001b[0;31mModuleNotFoundError\u001b[0m: No module named 'maxcut_benchmark'"
     ]
    }
   ],
   "source": [
    "import os\n",
    "import conversion as ws\n",
    "from itertools import product as iterprod"
   ]
  },
  {
   "attachments": {},
   "cell_type": "markdown",
   "metadata": {},
   "source": [
    "For this example, the data is assumed to be in folders of the type `__results/instance=0/approx_ratio/rounds=2_shots=100`.\n",
    "\n",
    "Each such folder contains `json` files corresponding to random initializations or restarts.\n",
    "\n",
    "If the data is organized differently, the function `get_folder_names` defined below should be modified approriately.\n"
   ]
  },
  {
   "cell_type": "code",
   "execution_count": 1,
   "metadata": {},
   "outputs": [],
   "source": [
    "#%% Parameters and functions for loading data\n",
    "rounds_list = [2]\n",
    "num_shots_list = [50,70,100]\n",
    "obj_func_list = ['approx_ratio'] # ['cvar_ratio', 'approx_ratio', 'gibbs_ratio', 'bestcut_ratio']\n",
    "\n",
    "objective_function_type = 'approx_ratio'\n",
    "\n",
    "def get_folder_names(instance_number, objective_function_type):\n",
    "    \"\"\"Get a list of folders with raw data corresponding to given instance and objective function\n",
    "\n",
    "    Args:\n",
    "        instance_number (int)\n",
    "        objective_function_type (str)\n",
    "\n",
    "    Returns:\n",
    "        nested dictionary: key sequence [rounds][num_shots] contains location of folder with raw data corresponding to those values. \n",
    "    \"\"\"\n",
    "    all_folders = dict()\n",
    "    for rounds in rounds_list:\n",
    "        shots_dict = dict()\n",
    "        for num_shots in num_shots_list:\n",
    "            shots_dict[num_shots] = os.path.join('__results', 'instance={}'.format(instance_number), objective_function_type, 'rounds-{}_shots-{}'.format(rounds,num_shots))\n",
    "        all_folders[rounds] = shots_dict\n",
    "    return all_folders"
   ]
  },
  {
   "attachments": {},
   "cell_type": "markdown",
   "metadata": {},
   "source": [
    "Now convert the raw data to `.pkl` format"
   ]
  },
  {
   "cell_type": "code",
   "execution_count": null,
   "metadata": {},
   "outputs": [],
   "source": [
    "def raw_to_metric_data(instance_number, objective_function_type, rounds_list, num_shots_list):\n",
    "    \"\"\"\n",
    "    For given values of instance and objective function type, load all available raw qed-c data.\n",
    "    Retain only the quantities of interest (i.e. only the values of the objective function as afunction of iteration number and restart index), and store files in a folder '__results_pkl'.\n",
    "    Each stored file will correspond to a combination of shots and rounds, and contain a dataframe with indices as iteration number and columns as metric values corresponding to various restarts\n",
    "\n",
    "    Args:\n",
    "        instance_number (int)\n",
    "        objective_function_type (str)\n",
    "    \"\"\"\n",
    "    # First, get a list of folders with raw data corresponding to this instance\n",
    "    all_folders = get_folder_names(instance_number, objective_function_type)\n",
    "    \n",
    "    for rounds, num_shots in iterprod(rounds_list, num_shots_list):\n",
    "        raw_folder = all_folders[rounds][num_shots]\n",
    "        \n",
    "        target_folder = os.path.join('__results_pkl', 'instance={}'.format(instance_number))\n",
    "        target_file_name = '{}_rounds-{}_shots-{}.pkl'.format(objective_function_type, rounds, num_shots)\n",
    "        df, gen_prop = ws.json_to_pkl(raw_folder, target_folder = target_folder, target_file_name = target_file_name)\n",
    "\n",
    "for instance_number in range(2):\n",
    "    raw_to_metric_data(instance_number, objective_function_type, rounds_list, num_shots_list)"
   ]
  },
  {
   "attachments": {},
   "cell_type": "markdown",
   "metadata": {},
   "source": [
    "Do bootstrapping for restarts. Store bootstrapped data in `checkpoints` folder. "
   ]
  },
  {
   "cell_type": "code",
   "execution_count": null,
   "metadata": {},
   "outputs": [],
   "source": [
    "bs_restarts_list = [1,2,5,10,20,30,40,50,60,70,80,90,100]\n",
    "bootstrap_iterations = 1000\n",
    "confidence_level = 64\n",
    "def metric_data_to_bootstrapped(instance_number, bs_restarts_list, bootstrap_iterations, confidence_level):\n",
    "    pkl_folder = os.path.join('__results_pkl', 'instance={}'.format(instance_number))\n",
    "    sb_target_folder = 'checkpoints'\n",
    "    sb_target_file = 'bootstrapped_results_inst={}.pkl'.format(instance_number)\n",
    "    df = ws.pkl_to_sb_pkl_bootstrapped(pkl_folder, bs_restarts_list, bootstrap_iterations, instance_number, confidence_level, sb_target_folder = sb_target_folder, sb_target_file = sb_target_file)\n",
    "\n",
    "    return df\n",
    "\n",
    "for instance_number in range(2):\n",
    "    df = metric_data_to_bootstrapped(instance_number, bs_restarts_list, bootstrap_iterations, confidence_level)\n"
   ]
  }
 ],
 "metadata": {
  "kernelspec": {
   "display_name": "benchmark",
   "language": "python",
   "name": "python3"
  },
  "language_info": {
   "codemirror_mode": {
    "name": "ipython",
    "version": 3
   },
   "file_extension": ".py",
   "mimetype": "text/x-python",
   "name": "python",
   "nbconvert_exporter": "python",
   "pygments_lexer": "ipython3",
   "version": "3.10.13"
  },
  "orig_nbformat": 4
 },
 "nbformat": 4,
 "nbformat_minor": 2
}
